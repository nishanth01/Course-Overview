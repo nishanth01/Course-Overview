{
 "cells": [
  {
   "cell_type": "markdown",
   "metadata": {},
   "source": [
    "# Classes\n",
    "\n",
    "Classes are some of the fundamental building blocks of object-oriented programs. We've learned about functions and how we have to execute them to have an effect, now we're going to learn about classes. Classes operate in a similar fashion in that they have to be instantiated prior to have an effect. Let's start playing around with them to learn more about them."
   ]
  },
  {
   "cell_type": "markdown",
   "metadata": {},
   "source": [
    "Classes are constracted with the `class` keyword."
   ]
  },
  {
   "cell_type": "code",
   "execution_count": 1,
   "metadata": {
    "collapsed": false
   },
   "outputs": [],
   "source": [
    "class Drone:\n",
    "    \"\"\"Base class for all drone aircraft\"\"\""
   ]
  },
  {
   "cell_type": "markdown",
   "metadata": {},
   "source": [
    "You'll see above that I have below the class definition a python multiline string.\n",
    "\n",
    "Multiline strings start with `\"\"\"` and signify that this text should all be included as one. In reality what this is is a description (or Docstring) of the class and what it is. We can see this within the IPython Notebook through."
   ]
  },
  {
   "cell_type": "code",
   "execution_count": 2,
   "metadata": {
    "collapsed": false
   },
   "outputs": [],
   "source": [
    "?Drone"
   ]
  },
  {
   "cell_type": "markdown",
   "metadata": {},
   "source": [
    "Which will print out:\n",
    "```\n",
    "Type:       type\n",
    "String Form:<class '__main__.Drone'>\n",
    "Docstring:  Base class for all drone aircraft\n",
    "```"
   ]
  },
  {
   "cell_type": "markdown",
   "metadata": {},
   "source": [
    "This is an important part of programming, documenting what you're doing. In reality you should be documenting functions and classes as well as methods. Now what are methods you might ask? Methods are basically functions that are attached to classes."
   ]
  },
  {
   "cell_type": "code",
   "execution_count": 3,
   "metadata": {
    "collapsed": false
   },
   "outputs": [],
   "source": [
    "class Drone:\n",
    "    def fly(self):\n",
    "        return \"The Drone is Flying\""
   ]
  },
  {
   "cell_type": "code",
   "execution_count": 4,
   "metadata": {
    "collapsed": false
   },
   "outputs": [
    {
     "name": "stdout",
     "output_type": "stream",
     "text": [
      "The Drone is Flying\n"
     ]
    }
   ],
   "source": [
    "d = Drone()\n",
    "print(d.fly())"
   ]
  },
  {
   "cell_type": "markdown",
   "metadata": {},
   "source": [
    "What we did above is a couple of important things. We defined the drone class with one method, `fly`. We had this return a string `The Drone is Flying`.\n",
    "\n",
    "In the line after, we created a new instance of the `Drone` class and assigned it to `d`. Then printed out the result of the fly method.\n",
    "\n",
    "An instance is just a realization of an abstract concept. `d` is the realization of the idea of `Drone`. `d` is an object.\n",
    "\n",
    "An object refers to a particular instance of a class. A class (and object) can include methods, variables, and other information. In this example, `d` is our object. This allows is to very easily make lots of copies of certain objects and individualize them from there rather than having to make them one by one. This is because things of a certain class all hold certain variables and methods for us that are common operations, things that belong to that class of objects. For example, all drones have some sort of power system. What we'd like to do is a simple way of storing that information."
   ]
  },
  {
   "cell_type": "code",
   "execution_count": 5,
   "metadata": {
    "collapsed": false
   },
   "outputs": [],
   "source": [
    "class Drone:\n",
    "    power_system = \"battery\"\n",
    "    def fly(self):\n",
    "        return \"The %s-powered drone is flying\" % (self.power_system)"
   ]
  },
  {
   "cell_type": "code",
   "execution_count": 6,
   "metadata": {
    "collapsed": false
   },
   "outputs": [
    {
     "name": "stdout",
     "output_type": "stream",
     "text": [
      "battery\n",
      "The battery-powered drone is flying\n"
     ]
    }
   ],
   "source": [
    "d = Drone()\n",
    "print(d.power_system)\n",
    "print(d.fly())"
   ]
  },
  {
   "cell_type": "markdown",
   "metadata": {},
   "source": [
    "Now at this point you should have noticed a couple of things. We can pretty much attach whatever we want to this drone class, variable and methods. \n",
    "\n",
    "You can think of an object, like `d` as almost like a dictionary. You can get and set values, you can store almost any other type and keep information local to that object. Obviously this is a simplification but it's a simple way of thinking about it.\n",
    "\n",
    "Another thing that likely jumped out at you is how we include the `self` keyword. Now I promise that the self keyword will take some time for you to wrap your head around. But at it's most basic level it's the easiest way to reference that specific instance's attributes.  What's really happening under the hood is:\n",
    "\n"
   ]
  },
  {
   "cell_type": "code",
   "execution_count": 7,
   "metadata": {
    "collapsed": false
   },
   "outputs": [
    {
     "data": {
      "text/plain": [
       "'The battery-powered drone is flying'"
      ]
     },
     "execution_count": 7,
     "metadata": {},
     "output_type": "execute_result"
    }
   ],
   "source": [
    "Drone.fly(d)"
   ]
  },
  {
   "cell_type": "markdown",
   "metadata": {},
   "source": [
    "Basically the method is being called from the class definition (note how Drone is capitalized), and we're passing in which Drone object (or instance) we want it to refer to. While this is just convention, it's how everyone writes their python code and how you should as well."
   ]
  },
  {
   "cell_type": "markdown",
   "metadata": {},
   "source": [
    "Now that we've covered the use of `self`. Let's move on to `__init__`. Many times you're going to want to create a class with certain attributes. Above we added the power system variable. But we set it to \"battery'. What if we had a gas powered drone? We'd have to do something like:"
   ]
  },
  {
   "cell_type": "code",
   "execution_count": 8,
   "metadata": {
    "collapsed": false
   },
   "outputs": [
    {
     "data": {
      "text/plain": [
       "'The gas-powered drone is flying'"
      ]
     },
     "execution_count": 8,
     "metadata": {},
     "output_type": "execute_result"
    }
   ],
   "source": [
    "d = Drone()\n",
    "d.power_system = \"gas\"\n",
    "d.fly()"
   ]
  },
  {
   "cell_type": "markdown",
   "metadata": {},
   "source": [
    "Now clearly this would cause all kinds of errors because the default isn't necessarily what you would want, so along comes the `__init__` helper to the rescue. The init method allows you to set up the constructor for your class. This means that when you create that instance of the class, certain things will happen."
   ]
  },
  {
   "cell_type": "code",
   "execution_count": 9,
   "metadata": {
    "collapsed": false
   },
   "outputs": [],
   "source": [
    "class Drone:\n",
    "    def __init__(self):\n",
    "        self.power_system = \"battery\"\n",
    "        self.aircraft_type = \"plane\"\n",
    "    def fly(self):\n",
    "        return \"The %s-powered drone is flying\" % (self.power_system)"
   ]
  },
  {
   "cell_type": "code",
   "execution_count": 10,
   "metadata": {
    "collapsed": false
   },
   "outputs": [
    {
     "name": "stdout",
     "output_type": "stream",
     "text": [
      "battery\n",
      "plane\n"
     ]
    }
   ],
   "source": [
    "d = Drone()\n",
    "print(d.power_system)\n",
    "print(d.aircraft_type)"
   ]
  },
  {
   "cell_type": "markdown",
   "metadata": {},
   "source": [
    "Now remember `__init__` is just a function attached to the Drone class so we can change the variables as we see fit. This allows us to make things extremely abstract so that our objects are flexible and we have to write the least amount of code possible."
   ]
  },
  {
   "cell_type": "code",
   "execution_count": 11,
   "metadata": {
    "collapsed": false
   },
   "outputs": [],
   "source": [
    "class Drone:\n",
    "    def __init__(self, power_system, drone_type):\n",
    "        print(\"Instantiating a drone\")\n",
    "        self.power_system = power_system\n",
    "        self.drone_type = drone_type\n",
    "        self.move_count = 0\n",
    "        \n",
    "    def move(self):\n",
    "        self.move_count += 1\n",
    "        if self.drone_type == \"plane\":\n",
    "            return \"the %s-powered %s drone is flying\" % (self.power_system, self.drone_type)\n",
    "        elif self.drone_type == \"submarine\":\n",
    "            return \"the %s-powered %s drone is moving underwater\" % (self.power_system, self.drone_type)\n",
    "        else:\n",
    "            return \"the %s-powered %s drone is moving\" % (self.power_system, self.drone_type)"
   ]
  },
  {
   "cell_type": "code",
   "execution_count": 12,
   "metadata": {
    "collapsed": false
   },
   "outputs": [
    {
     "name": "stdout",
     "output_type": "stream",
     "text": [
      "Instantiating a drone\n"
     ]
    }
   ],
   "source": [
    "airplane = Drone(\"gas\", \"plane\")"
   ]
  },
  {
   "cell_type": "code",
   "execution_count": 13,
   "metadata": {
    "collapsed": false
   },
   "outputs": [
    {
     "name": "stdout",
     "output_type": "stream",
     "text": [
      "Instantiating a drone\n"
     ]
    }
   ],
   "source": [
    "submarine = Drone(\"diesel\", \"submarine\")"
   ]
  },
  {
   "cell_type": "code",
   "execution_count": 14,
   "metadata": {
    "collapsed": false
   },
   "outputs": [
    {
     "name": "stdout",
     "output_type": "stream",
     "text": [
      "the gas-powered plane drone is flying\n",
      "the diesel-powered submarine drone is moving underwater\n",
      "the gas-powered plane drone is flying\n"
     ]
    }
   ],
   "source": [
    "print(airplane.move())\n",
    "print(submarine.move())\n",
    "print(airplane.move())"
   ]
  },
  {
   "cell_type": "code",
   "execution_count": 15,
   "metadata": {
    "collapsed": false
   },
   "outputs": [
    {
     "name": "stdout",
     "output_type": "stream",
     "text": [
      "Airplane Move Count:\n",
      "2\n",
      "Submarine Move Count:\n",
      "1\n"
     ]
    }
   ],
   "source": [
    "print(\"Airplane Move Count:\")\n",
    "print(airplane.move_count)\n",
    "print(\"Submarine Move Count:\")\n",
    "print(submarine.move_count)"
   ]
  },
  {
   "cell_type": "markdown",
   "metadata": {},
   "source": [
    "Notice how we are able to update the `move_count` whenever we move the drone and that that count describes only that instance."
   ]
  },
  {
   "cell_type": "markdown",
   "metadata": {},
   "source": [
    "This is one of they key concepts of object oriented programming. Notice how now we have a general Drone class, however this can now apply to submersibles or to airplane drones. Now as you might have guessed, taking this to an extreme can make things really inflexible because everything becomes to abstract. There are always trade offs and it's up to you as the programmer to understand those trade-offs when you make certain design decisions."
   ]
  },
  {
   "cell_type": "markdown",
   "metadata": {},
   "source": [
    "Another common choice surrounds how to set and get attributes or properties. Now the `drone_type` variable is a property of the Drone instance. It is one of the fundamental descriptors of an instance and it's important that we control how it is accessed and set.\n",
    "\n",
    "For example, sometimes you might want to get a value and you accidentally set it or other times you may want to make sure that it cannot be changed in the future. In this setting, once a drone is created, it's type should never change. One way of controlling this is through getter and setter methods."
   ]
  },
  {
   "cell_type": "code",
   "execution_count": 16,
   "metadata": {
    "collapsed": false
   },
   "outputs": [],
   "source": [
    "class Drone:\n",
    "    def __init__(self, power_system, drone_type):\n",
    "        print(\"Instantiating a drone\")\n",
    "        self.power_system = power_system\n",
    "        self.hidden_dtype = drone_type\n",
    "        self.move_count = 0\n",
    "        \n",
    "    def set_dtype(self, new_type):\n",
    "        print(\"Alert, changing drone type!\")\n",
    "        self.hidden_dtype = new_type\n",
    "        \n",
    "    def get_dtype(self):\n",
    "        print(\"Alert, accessing drone type!\")\n",
    "        return self.hidden_dtype\n",
    "        \n",
    "    def move(self):\n",
    "        self.move_count += 1\n",
    "        if self.hidden_dtype == \"plane\":\n",
    "            return \"the %s-powered %s drone is flying\" % (self.power_system, self.hidden_dtype)\n",
    "        elif self.hidden_dtype == \"submarine\":\n",
    "            return \"the %s-powered %s drone is moving underwater\" % (self.power_system, self.hidden_dtype)\n",
    "        else:\n",
    "            return \"the %s-powered %s drone is moving\" % (self.power_system, self.hidden_dtype)"
   ]
  },
  {
   "cell_type": "markdown",
   "metadata": {},
   "source": [
    "Now that we've seen how we can make this Drone class a bit more abstract, let's explore another topic. **Inheritance.**"
   ]
  },
  {
   "cell_type": "code",
   "execution_count": 17,
   "metadata": {
    "collapsed": false
   },
   "outputs": [
    {
     "name": "stdout",
     "output_type": "stream",
     "text": [
      "Instantiating a drone\n"
     ]
    }
   ],
   "source": [
    "d = Drone(\"battery\",\"plane\")"
   ]
  },
  {
   "cell_type": "code",
   "execution_count": 18,
   "metadata": {
    "collapsed": false
   },
   "outputs": [
    {
     "name": "stdout",
     "output_type": "stream",
     "text": [
      "Alert, accessing drone type!\n"
     ]
    },
    {
     "data": {
      "text/plain": [
       "'plane'"
      ]
     },
     "execution_count": 18,
     "metadata": {},
     "output_type": "execute_result"
    }
   ],
   "source": [
    "d.get_dtype()"
   ]
  },
  {
   "cell_type": "markdown",
   "metadata": {},
   "source": [
    "Now we're controlling how this is accessed. However, it's still a bit hacky because we can bypass this and never know it. Or we might be setting a different property than we think we are."
   ]
  },
  {
   "cell_type": "code",
   "execution_count": 19,
   "metadata": {
    "collapsed": false
   },
   "outputs": [],
   "source": [
    "d.hidden_dtype = \"shoe\""
   ]
  },
  {
   "cell_type": "code",
   "execution_count": 20,
   "metadata": {
    "collapsed": false
   },
   "outputs": [
    {
     "name": "stdout",
     "output_type": "stream",
     "text": [
      "Alert, accessing drone type!\n"
     ]
    },
    {
     "data": {
      "text/plain": [
       "'shoe'"
      ]
     },
     "execution_count": 20,
     "metadata": {},
     "output_type": "execute_result"
    }
   ],
   "source": [
    "d.get_dtype()"
   ]
  },
  {
   "cell_type": "markdown",
   "metadata": {},
   "source": [
    "Now you might be wondering, when would this actually ever happen. I know I shouldn't ever set my drone to be of type shoe and you're right, *you* might not. But you don't know how you're going to be using the class you create in the future. What if you're creating something that other people are going to use? How would they know that they aren't supposed to access or change the type this way?\n",
    "\n",
    "This is a key point, you always want to code defensively. You never know how something might be used in the future and for the most part you want to control access to certain parts of your code and classes."
   ]
  },
  {
   "cell_type": "code",
   "execution_count": 21,
   "metadata": {
    "collapsed": false
   },
   "outputs": [],
   "source": [
    "class Drone:\n",
    "    def __init__(self, power_system, drone_type):\n",
    "        print(\"Instantiating a drone\")\n",
    "        self.power_system = power_system\n",
    "        self.hidden_dtype = drone_type\n",
    "        self.move_count = 0\n",
    "        \n",
    "    def set_dtype(self, new_type):\n",
    "        print(\"Alert, changing drone type!\")\n",
    "        self.hidden_dtype = new_type\n",
    "        \n",
    "    def get_dtype(self):\n",
    "        print(\"Alert, accessing drone type!\")\n",
    "        return self.hidden_dtype\n",
    "    \n",
    "    #adding this line\n",
    "    dtype = property(get_dtype, set_dtype)\n",
    "        \n",
    "    def move(self):\n",
    "        self.move_count += 1\n",
    "        if self.hidden_dtype == \"plane\":\n",
    "            return \"the %s-powered %s drone is flying\" % (self.power_system, self.hidden_dtype)\n",
    "        elif self.hidden_dtype == \"submarine\":\n",
    "            return \"the %s-powered %s drone is moving underwater\" % (self.power_system, self.hidden_dtype)\n",
    "        else:\n",
    "            return \"the %s-powered %s drone is moving\" % (self.power_system, self.hidden_dtype)"
   ]
  },
  {
   "cell_type": "code",
   "execution_count": 22,
   "metadata": {
    "collapsed": false
   },
   "outputs": [
    {
     "name": "stdout",
     "output_type": "stream",
     "text": [
      "Instantiating a drone\n",
      "Alert, accessing drone type!\n",
      "plane\n",
      "Alert, accessing drone type!\n",
      "plane\n"
     ]
    }
   ],
   "source": [
    "d = Drone(\"battery\",\"plane\")\n",
    "print(d.get_dtype())\n",
    "print(d.dtype)"
   ]
  },
  {
   "cell_type": "code",
   "execution_count": 23,
   "metadata": {
    "collapsed": false
   },
   "outputs": [
    {
     "name": "stdout",
     "output_type": "stream",
     "text": [
      "Alert, changing drone type!\n",
      "Alert, changing drone type!\n"
     ]
    }
   ],
   "source": [
    "d.set_dtype(\"tank\")\n",
    "d.dtype = \"submarine\""
   ]
  },
  {
   "cell_type": "code",
   "execution_count": 24,
   "metadata": {
    "collapsed": false
   },
   "outputs": [
    {
     "name": "stdout",
     "output_type": "stream",
     "text": [
      "the battery-powered submarine drone is moving underwater\n"
     ]
    }
   ],
   "source": [
    "print(d.move())"
   ]
  },
  {
   "cell_type": "markdown",
   "metadata": {},
   "source": [
    "Now a similar topic is covered in the book. But basically we're now creating this idea of a property. Again, it's an attribute that describes this specific instance except now we're controlling how it's accessed. Unfortunately, as we saw above. Someone can hijack this if they aren't careful. "
   ]
  },
  {
   "cell_type": "code",
   "execution_count": 25,
   "metadata": {
    "collapsed": false
   },
   "outputs": [],
   "source": [
    "d.hidden_dtype = \"chicken\""
   ]
  },
  {
   "cell_type": "code",
   "execution_count": 26,
   "metadata": {
    "collapsed": false
   },
   "outputs": [
    {
     "name": "stdout",
     "output_type": "stream",
     "text": [
      "the battery-powered chicken drone is moving\n"
     ]
    }
   ],
   "source": [
    "print(d.move())"
   ]
  },
  {
   "cell_type": "markdown",
   "metadata": {},
   "source": [
    "So naming something as \"hidden\" isn't the best way to actually hide a variable. What we want to do is use something called a decorator. Now don't worry about exactly what this is right now. But basically it gives you control over exactly how something is created, set, and get."
   ]
  },
  {
   "cell_type": "code",
   "execution_count": 27,
   "metadata": {
    "collapsed": false
   },
   "outputs": [],
   "source": [
    "class Drone:\n",
    "    def __init__(self, power_system, drone_type):\n",
    "        print(\"Instantiating a drone\")\n",
    "        self.power_system = power_system\n",
    "        self.__dtype = drone_type\n",
    "        self.move_count = 0\n",
    "        \n",
    "    @property\n",
    "    def dtype(self):\n",
    "        print(\"The dtype property getter\")\n",
    "        return self.__dtype\n",
    "        \n",
    "    @dtype.setter\n",
    "    def dtype(self, new_type):\n",
    "        print(\"Sorry, you can never change the drone type once created\")\n",
    "        \n",
    "    def move(self):\n",
    "        self.move_count += 1\n",
    "        if self.__dtype == \"plane\":\n",
    "            return \"the %s-powered %s drone is flying\" % (self.power_system, self.__dtype)\n",
    "        elif self.__dtype == \"submarine\":\n",
    "            return \"the %s-powered %s drone is moving underwater\" % (self.power_system, self.__dtype)\n",
    "        else:\n",
    "            return \"the %s-powered %s drone is moving\" % (self.power_system, self.__dtype)"
   ]
  },
  {
   "cell_type": "code",
   "execution_count": 28,
   "metadata": {
    "collapsed": false
   },
   "outputs": [
    {
     "name": "stdout",
     "output_type": "stream",
     "text": [
      "Instantiating a drone\n",
      "Sorry, you can never change the drone type once created\n"
     ]
    }
   ],
   "source": [
    "d = Drone(\"battery\",\"plane\")\n",
    "d.dtype = \"shoe\""
   ]
  },
  {
   "cell_type": "code",
   "execution_count": 29,
   "metadata": {
    "collapsed": false
   },
   "outputs": [
    {
     "name": "stdout",
     "output_type": "stream",
     "text": [
      "The dtype property getter\n"
     ]
    },
    {
     "data": {
      "text/plain": [
       "'plane'"
      ]
     },
     "execution_count": 29,
     "metadata": {},
     "output_type": "execute_result"
    }
   ],
   "source": [
    "d.dtype"
   ]
  },
  {
   "cell_type": "code",
   "execution_count": 30,
   "metadata": {
    "collapsed": false
   },
   "outputs": [],
   "source": [
    "d.__name = \"shoe\""
   ]
  },
  {
   "cell_type": "code",
   "execution_count": 31,
   "metadata": {
    "collapsed": false
   },
   "outputs": [
    {
     "name": "stdout",
     "output_type": "stream",
     "text": [
      "The dtype property getter\n"
     ]
    },
    {
     "data": {
      "text/plain": [
       "'plane'"
      ]
     },
     "execution_count": 31,
     "metadata": {},
     "output_type": "execute_result"
    }
   ],
   "source": [
    "d.dtype"
   ]
  },
  {
   "cell_type": "code",
   "execution_count": 32,
   "metadata": {
    "collapsed": false
   },
   "outputs": [
    {
     "data": {
      "text/plain": [
       "'the battery-powered plane drone is flying'"
      ]
     },
     "execution_count": 32,
     "metadata": {},
     "output_type": "execute_result"
    }
   ],
   "source": [
    "d.move()"
   ]
  },
  {
   "cell_type": "markdown",
   "metadata": {},
   "source": [
    "Pretty cool huh? We can't change it even if we wanted to. This follows a principle called encapsulation. You're coding defensively and understand exactly how people can and will access certain attributes of your object. This is an important thing to do because it keeps your internal use of the code seperate from the outside use of your class. See how we can still access the hidden property by it's actual name in the `move` method? This effectively makes this value *immutable* it can't be changed once it's created."
   ]
  },
  {
   "cell_type": "markdown",
   "metadata": {
    "collapsed": false
   },
   "source": [
    "Now before we move beyond the basics we should dive a bit deeper into different method and attribute types. With classes you can have 2 basic method types and 1 accessory type.\n",
    "\n",
    "The Method Types are:\n",
    "\n",
    "- Instance Methods\n",
    "- Class Methods\n",
    "- Static Methods"
   ]
  },
  {
   "cell_type": "markdown",
   "metadata": {},
   "source": [
    "Instance methods are ones that affect only that instance. For example `move` in the Drone class above only affects that specific instance, no other Drones are affected.\n",
    "\n",
    "Class Methods are methods we haven't explored yet, but let's just rewrite our Drone class to introduce it."
   ]
  },
  {
   "cell_type": "code",
   "execution_count": 8,
   "metadata": {
    "collapsed": true
   },
   "outputs": [],
   "source": [
    "class Drone:\n",
    "    drone_count = 0\n",
    "    def __init__(self, power_system, drone_type):\n",
    "        print(\"Instantiating a drone\")\n",
    "        self.power_system = power_system\n",
    "        self.__dtype = drone_type\n",
    "        self.move_count = 0\n",
    "        Drone.drone_count += 1\n",
    "        \n",
    "    @classmethod\n",
    "    def get_num_drones_created(cls):\n",
    "        return Drone.drone_count\n",
    "        \n",
    "    @property\n",
    "    def dtype(self):\n",
    "        print(\"The dtype property getter\")\n",
    "        return self.__dtype\n",
    "        \n",
    "    @dtype.setter\n",
    "    def dtype(self, new_type):\n",
    "        print(\"Sorry, you can never change the drone type once created\")\n",
    "        \n",
    "    def move(self):\n",
    "        self.move_count += 1\n",
    "        if self.__dtype == \"plane\":\n",
    "            return \"the %s-powered %s drone is flying\" % (self.power_system, self.__dtype)\n",
    "        elif self.__dtype == \"submarine\":\n",
    "            return \"the %s-powered %s drone is moving underwater\" % (self.power_system, self.__dtype)\n",
    "        else:\n",
    "            return \"the %s-powered %s drone is moving\" % (self.power_system, self.__dtype)"
   ]
  },
  {
   "cell_type": "code",
   "execution_count": 9,
   "metadata": {
    "collapsed": false
   },
   "outputs": [
    {
     "name": "stdout",
     "output_type": "stream",
     "text": [
      "Instantiating a drone\n",
      "Instantiating a drone\n",
      "Instantiating a drone\n",
      "Instantiating a drone\n",
      "4\n"
     ]
    }
   ],
   "source": [
    "d = Drone(\"battery\",\"plane\")\n",
    "d2 = Drone(\"battery\",\"plane\")\n",
    "d3 = Drone(\"battery\",\"plane\")\n",
    "d4 = Drone(\"battery\",\"plane\")\n",
    "print(Drone.get_num_drones_created())"
   ]
  },
  {
   "cell_type": "markdown",
   "metadata": {},
   "source": [
    "Do you notice how that works? We made the `drone_count` an attribute of the overall class and we access it from the `classmethod` `get_num_drones_created`. This is a great way of keep track of the number of instances. For example if you're writing a poker game and you want to make sure that no one is cheating, you could check how many instances of \"card\" have been created, if it ever changes you know someone could be adding to the deck!"
   ]
  },
  {
   "cell_type": "markdown",
   "metadata": {
    "collapsed": true
   },
   "source": [
    "The last method type we have to cover are `staticmethods`. These methods are pretty boring because they don't do much (they are static after all). They only provide some niceties, that might print a message to your user. They don't modify anything (or shouldn't) and might do something like print a message.\n",
    "\n",
    "For example, let's modify out drone class again."
   ]
  },
  {
   "cell_type": "code",
   "execution_count": 1,
   "metadata": {
    "collapsed": true
   },
   "outputs": [],
   "source": [
    "class Drone:\n",
    "    drone_count = 0\n",
    "    def __init__(self, power_system, drone_type):\n",
    "        print(\"Instantiating a drone\")\n",
    "        self.power_system = power_system\n",
    "        self.__dtype = drone_type\n",
    "        self.move_count = 0\n",
    "        Drone.drone_count += 1\n",
    "        \n",
    "    @classmethod\n",
    "    def get_num_drones_created(cls):\n",
    "        return Drone.drone_count\n",
    "        \n",
    "    @staticmethod\n",
    "    def about():\n",
    "        print(\"Amazon wants to deliver packages with drones.\")\n",
    "    @property\n",
    "    def dtype(self):\n",
    "        print(\"The dtype property getter\")\n",
    "        return self.__dtype\n",
    "        \n",
    "    @dtype.setter\n",
    "    def dtype(self, new_type):\n",
    "        print(\"Sorry, you can never change the drone type once created\")\n",
    "        \n",
    "    def move(self):\n",
    "        self.move_count += 1\n",
    "        if self.__dtype == \"plane\":\n",
    "            return \"the %s-powered %s drone is flying\" % (self.power_system, self.__dtype)\n",
    "        elif self.__dtype == \"submarine\":\n",
    "            return \"the %s-powered %s drone is moving underwater\" % (self.power_system, self.__dtype)\n",
    "        else:\n",
    "            return \"the %s-powered %s drone is moving\" % (self.power_system, self.__dtype)"
   ]
  },
  {
   "cell_type": "code",
   "execution_count": 2,
   "metadata": {
    "collapsed": false
   },
   "outputs": [
    {
     "name": "stdout",
     "output_type": "stream",
     "text": [
      "Amazon wants to deliver packages with drones.\n"
     ]
    }
   ],
   "source": [
    "Drone.about()"
   ]
  },
  {
   "cell_type": "markdown",
   "metadata": {},
   "source": [
    "And with that we've wrapped up the basics of classes. You've learned a lot in this section, it introduces some new concepts and material. Let's prepare to move onto the next section!"
   ]
  }
 ],
 "metadata": {
  "kernelspec": {
   "display_name": "Python 2",
   "language": "python",
   "name": "python2"
  },
  "language_info": {
   "codemirror_mode": {
    "name": "ipython",
    "version": 2
   },
   "file_extension": ".py",
   "mimetype": "text/x-python",
   "name": "python",
   "nbconvert_exporter": "python",
   "pygments_lexer": "ipython2",
   "version": "2.7.6"
  }
 },
 "nbformat": 4,
 "nbformat_minor": 0
}
