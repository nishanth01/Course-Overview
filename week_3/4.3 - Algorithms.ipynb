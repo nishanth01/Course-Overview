{
 "cells": [
  {
   "cell_type": "markdown",
   "metadata": {},
   "source": [
    "## More about Algorithms\n",
    "\n",
    "Let's return to the idea of an algorithm.  We already mentioned that an algorithm is the abstract set of steps a program will execute, as separate from the specific language it is written in.  In another, slightly different, sense an algorithm is a plan for solving a specific problem.  Computer scientists study all kinds of problems.  Some of these are big problems with clear applications to data science.  For example, how do you approximate the solution to a linear regression for a large dataset? Other problems are more foundational in nature.  Here, let's consider the problem of how to find the square root of a positive number, $x$.  Of course, in Python, you can just type in $x$^$0.5$, but let's pretend we don't know that (or we can pretend that we're trying to write an interpreter that knows how to take square roots.)\n",
    "\n",
    "Previously, we used an algorithm to check if an integer is a perfect square.  We started with a guess of zero and increased it by one until the square of our guess was as large as the input.  One idea is to adapt this algorithm to find the square root of any number.  Of course, that algorithm only searched through the integers, so we'll have to take smaller steps if we want to find the square root of any number.\n",
    "\n",
    "It's worth noting that we can never find the square root of a number exactly.  That's because square roots usually don't terminate - it would take an infinite number of digits to write them down.  What we can do instead is choose a small epsilon (say, 0.00001), and try to find a number that's less than epsilon away from the square root of $x$.  To refactor our algorithm, we'll start with a guess of zero and add epsilon in each step.  This will guarrantee that the answer we get is within epsilon of the actual square root.\n",
    "\n",
    "Try finding the square root of 10 with this algorithm."
   ]
  },
  {
   "cell_type": "code",
   "execution_count": 2,
   "metadata": {
    "collapsed": false
   },
   "outputs": [
    {
     "name": "stdout",
     "output_type": "stream",
     "text": [
      "enter a number:4\n",
      "number of guesses = 200000\n",
      "2.000000000004635 is close to square root of 4.0\n",
      "Test print\n"
     ]
    }
   ],
   "source": [
    "## Exhuastive Search to Find a Square Root\n",
    "\n",
    "x = float(input(\"enter a number:\"))\n",
    "epsilon = 0.00001\n",
    "num_guesses = 0\n",
    "ans = 0.0\n",
    "while ans*ans<= x:\n",
    "    ans += epsilon\n",
    "    num_guesses += 1\n",
    "print('number of guesses =', num_guesses)\n",
    "print(ans, 'is close to square root of', x)\n",
    "print(\"Test print\")"
   ]
  },
  {
   "cell_type": "markdown",
   "metadata": {},
   "source": [
    "You can check that the answer is indeed close to the square root of 10.  Now try the program on a large number, say 12345.  How long does it take?\n",
    "\n",
    "This is an example of a *brute force algorithm*.  It searches through all possible solutions, until the right one is found.  You can see that the brute force algorithm will always find the answer, but it can take a rather long time.\n",
    "\n",
    "Depite this, there are many times in programming when you will want to use a brute force algorithm.  It could be that you know the number of possible solutions is small, so the brute force algorithm will work in a reasonable time.  Brute force algorithms are also very simple.  Finally, it could just be that the problem space is unstructured and there's no better choice out there."
   ]
  },
  {
   "cell_type": "markdown",
   "metadata": {},
   "source": [
    "Here's another algorithm that's well-known among computer scientists: a *bisection search*.  Instead of making a single guess, imagine a window, or an interval of numbers that we know contains the square root of $x$.  At the beginning, we can use the window from 0 to x.  Clearly, the square root of $x$ has to be in there somewhere.\n",
    "\n",
    "Next, let's look at the midpoint of our window, which will be $x/2$ at the moment.  We can check if this point is too low or two high by squaring it and comparing it to $x$.  If the midpoint of our window is too low, we can throw away the bottom half of the window and focus on the top half.  Otherwise, we throw out the top half of the window and focus on the bottom half.  Now we have a new window, which is half as large, and we can repeat the same process.  Eventually our window will be small enough that we know the midpoint is within epsillon of the right answer.\n",
    "\n",
    "The python script below implements a bisection search.  Notice that we use variables low and high to keep track of the bottom and the top of our window.  When the size of the window shrinks below 2 * epsillon, we know that any point inside the window is within epsillon of the midpoint.  This means that the midpoint is a valid guess for the squareroot of $x$, up to the precision we want."
   ]
  },
  {
   "cell_type": "code",
   "execution_count": 10,
   "metadata": {
    "collapsed": false
   },
   "outputs": [
    {
     "name": "stdout",
     "output_type": "stream",
     "text": [
      "enter a number:.25\n",
      "low = 0.0 high = 0.25\n",
      "low = 0.125 high = 0.25\n",
      "low = 0.1875 high = 0.25\n",
      "low = 0.21875 high = 0.25\n",
      "low = 0.234375 high = 0.25\n",
      "low = 0.2421875 high = 0.25\n",
      "low = 0.24609375 high = 0.25\n",
      "low = 0.248046875 high = 0.25\n",
      "low = 0.2490234375 high = 0.25\n",
      "low = 0.24951171875 high = 0.25\n",
      "low = 0.249755859375 high = 0.25\n",
      "low = 0.2498779296875 high = 0.25\n",
      "low = 0.24993896484375 high = 0.25\n",
      "low = 0.249969482421875 high = 0.25\n",
      "number of guesses = 14\n",
      "0.24999237060546875 is close to square root of 0.25\n"
     ]
    }
   ],
   "source": [
    "## Bisection Search to Find a Square Root\n",
    "\n",
    "x = float(input(\"enter a number:\"))\n",
    "epsilon = 0.00001\n",
    "num_guesses = 0\n",
    "low = 0.0\n",
    "high = x\n",
    "ans = (high + low)/2.0\n",
    "while high-low >= 2 * epsilon:\n",
    "    print(\"low =\",low,\"high =\", high)\n",
    "    num_guesses += 1\n",
    "    if ans**2 < x:\n",
    "        low = ans\n",
    "    else:\n",
    "        high = ans\n",
    "    ans = (high + low)/2.0\n",
    "print('number of guesses =', num_guesses)\n",
    "print(ans, 'is close to square root of', x)"
   ]
  },
  {
   "cell_type": "markdown",
   "metadata": {},
   "source": [
    "Try running the algorithm to find the square root of 10, and of 12345.  How many steps did the algorithm take?\n",
    "\n",
    "Now try running the algorithm to find the square root of 0.25.  What goes wrong?  Try to fix the algorithm so that it works correctly."
   ]
  },
  {
   "cell_type": "markdown",
   "metadata": {},
   "source": [
    "Finally, let's examine a third algorithm for finding square roots, known as the Babylonian method, or as Heron's method, after an ancient Greek mathematician.  This algorithm is a special case of Newton's method, invented centuries later to approximate the roots of functions.  In this case, we want to find $ans$, such that the function $f(ans) = ans^2 - x$ equals 0.\n",
    "\n",
    "Newton's method is easiest to understand with a picture.  We begin with a guess for ans and compute our function $f$, and the derivative of $f$ at the guess.  Even though our function is a curve, we approximate it as the tangent line at our guess, and compute where the line crosses the zero.  This becomes our next guess.  Using some calculus, we can compute the next guess for ans as $(x/ans + ans)/2$.  This is encoded in the algorithm, below."
   ]
  },
  {
   "cell_type": "code",
   "execution_count": 11,
   "metadata": {
    "collapsed": false
   },
   "outputs": [
    {
     "name": "stdout",
     "output_type": "stream",
     "text": [
      "enter a number:12345\n",
      "number of guesses = 10\n",
      "111.10805770848404 is close to the square root of 12345.0\n"
     ]
    }
   ],
   "source": [
    "## Newton's Method to Find a Square Root (Heron's algorithm)\n",
    "x = float(input(\"enter a number:\"))\n",
    "epsilon = 0.00001\n",
    "num_guesses = 0\n",
    "ans = 1\n",
    "while abs(x/ans - ans)>epsilon:\n",
    "    ans = (x/ans + ans)/2\n",
    "    num_guesses += 1\n",
    "print(\"number of guesses =\", num_guesses)\n",
    "print(ans, \"is close to the square root of\", x)"
   ]
  },
  {
   "cell_type": "markdown",
   "metadata": {},
   "source": [
    "Try running this algorithm.  How does it perform compared to the exhuastive search and the bisection search algorithms?  Notice that this algorithm actually tries to use features of the problem to find a solution - like the fact that $x^2$ is a smooth function of x."
   ]
  }
 ],
 "metadata": {
  "anaconda-cloud": {},
  "kernelspec": {
   "display_name": "Python [Root]",
   "language": "python",
   "name": "Python [Root]"
  },
  "language_info": {
   "codemirror_mode": {
    "name": "ipython",
    "version": 3
   },
   "file_extension": ".py",
   "mimetype": "text/x-python",
   "name": "python",
   "nbconvert_exporter": "python",
   "pygments_lexer": "ipython3",
   "version": "3.5.2"
  }
 },
 "nbformat": 4,
 "nbformat_minor": 0
}
